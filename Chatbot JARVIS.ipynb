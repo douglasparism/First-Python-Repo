{
 "cells": [
  {
   "cell_type": "code",
   "execution_count": 5,
   "metadata": {},
   "outputs": [],
   "source": [
    "#Chatbot de bienvenida \n",
    "\n",
    "from time import sleep\n",
    "def print_words(sentence):\n",
    "    for word in sentence.split():\n",
    "        for l in word:\n",
    "            sleep(.1)\n",
    "            print(l, end = '')\n",
    "        print(end = ' ')"
   ]
  },
  {
   "cell_type": "code",
   "execution_count": 6,
   "metadata": {},
   "outputs": [
    {
     "name": "stdout",
     "output_type": "stream",
     "text": [
      "gucci gang gucci gang "
     ]
    }
   ],
   "source": [
    "en = \"gucci gang gucci gang\"\n",
    "print_words(en)"
   ]
  },
  {
   "cell_type": "code",
   "execution_count": 7,
   "metadata": {},
   "outputs": [],
   "source": [
    "prompt = ' >> '"
   ]
  },
  {
   "cell_type": "code",
   "execution_count": 8,
   "metadata": {},
   "outputs": [
    {
     "name": "stdout",
     "output_type": "stream",
     "text": [
      " >> jarvis\n"
     ]
    }
   ],
   "source": [
    "nombre_usuario = input(prompt)"
   ]
  },
  {
   "cell_type": "code",
   "execution_count": 9,
   "metadata": {},
   "outputs": [
    {
     "data": {
      "text/plain": [
       "'jarvis'"
      ]
     },
     "execution_count": 9,
     "metadata": {},
     "output_type": "execute_result"
    }
   ],
   "source": [
    "nombre_usuario"
   ]
  },
  {
   "cell_type": "code",
   "execution_count": 12,
   "metadata": {},
   "outputs": [],
   "source": [
    "respuesta = \"Mucho gusto en conocerte %s, my name is earl\" %nombre_usuario"
   ]
  },
  {
   "cell_type": "code",
   "execution_count": 13,
   "metadata": {},
   "outputs": [
    {
     "name": "stdout",
     "output_type": "stream",
     "text": [
      "Mucho gusto en conocerte jarvis, my name is earl\n"
     ]
    }
   ],
   "source": [
    "print(respuesta)"
   ]
  },
  {
   "cell_type": "code",
   "execution_count": 14,
   "metadata": {},
   "outputs": [
    {
     "name": "stdout",
     "output_type": "stream",
     "text": [
      "Hola, bienvenida o bienvenido a simulación matemática. Me puedes llamar Alice y me gustaría saber un poco acerca de ti, por ejemplo ¿Cuál es tu nombre?  >> Doug\n",
      "Gusto en conocerte Doug, espero que te guste el curso. Ahora, me gustaría saber donde vives Doug, ¿cuál es tu ciudad?  >> GDL\n",
      "Mmm... ¿eso es una ciudad real? GDL. Bueno, después lo investigo. ¿Qué edad tienes?  >> 19\n",
      "¿Te ha gustado esta bienvenida?  >>   Si\n",
      "Muy bien Doug, dices que Si te gustó la bienvenida. Tú vives en GDL, ya dije que voy a investigar donde es eso. Y además estas por cumplir 20 años. Fue un gusto conocerte, hasta pronto! "
     ]
    }
   ],
   "source": [
    "%run welcome.py"
   ]
  },
  {
   "cell_type": "markdown",
   "metadata": {},
   "source": [
    "## Actividad:  Realizar un chatbot "
   ]
  },
  {
   "cell_type": "code",
   "execution_count": null,
   "metadata": {},
   "outputs": [],
   "source": [
    "from time import sleep\n",
    "\n",
    "def print_words(sentence):\n",
    "    for word in sentence.split():\n",
    "        for l in word:\n",
    "            sleep(.05)\n",
    "            print(l, end = '')\n",
    "        print(end = ' ')\n",
    "        \n",
    "sentence1 = 'Hola, bienvenida o bienvenido a simulación matemática.'\n",
    "print_words(sentence1)\n",
    "sentence2 = 'Me puedes llamar Alice y me gustaría saber un poco acerca de ti, por ejemplo'\n",
    "print_words(sentence2)\n",
    "sentence3 = '¿Cuál es tu nombre?'\n",
    "print_words(sentence3)\n",
    "prompt = ' >> '\n",
    "nombre_usuario = input(prompt)\n",
    "sentence4 = 'Gusto en conocerte ' + nombre_usuario + ', espero que te guste el curso.'\n",
    "print_words(sentence4)\n",
    "sentence5 = 'Ahora, me gustaría saber donde vives %s, ¿cuál es tu ciudad?' % nombre_usuario\n",
    "print_words(sentence5)\n",
    "lugar = input(prompt)\n",
    "sentence6 = 'Mmm... ¿eso es una ciudad real? %s.' % lugar\n",
    "print_words(sentence6)\n",
    "sentence7 = 'Bueno, después lo investigo. ¿Qué edad tienes?'\n",
    "print_words(sentence7)\n",
    "edad = input(prompt)\n",
    "sentence8 = '¿Te ha gustado esta bienvenida?'\n",
    "print_words(sentence8)\n",
    "gustar = input(prompt)\n",
    "sfinal = ' Muy bien %s, dices que %s te gustó la bienvenida.' % (nombre_usuario, gustar)\n",
    "sfinal2 = ' Tú vives en %s, ya dije que voy a investigar donde es eso.'% lugar\n",
    "sfinal3 = 'Y además estas por cumplir %s años. Fue un gusto conocerte, hasta pronto!' %  (int(edad)+ 1 )\n",
    "print_words(sfinal)\n",
    "print_words(sfinal2)\n",
    "print_words(sfinal3)\n",
    "sentence9 = 'Enunciado de prueba. '"
   ]
  }
 ],
 "metadata": {
  "kernelspec": {
   "display_name": "Python 3",
   "language": "python",
   "name": "python3"
  },
  "language_info": {
   "codemirror_mode": {
    "name": "ipython",
    "version": 3
   },
   "file_extension": ".py",
   "mimetype": "text/x-python",
   "name": "python",
   "nbconvert_exporter": "python",
   "pygments_lexer": "ipython3",
   "version": "3.6.3"
  }
 },
 "nbformat": 4,
 "nbformat_minor": 2
}
